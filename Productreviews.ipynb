{
 "cells": [
  {
   "cell_type": "code",
   "execution_count": 1,
   "id": "25185caa-cea0-49cc-b45c-21e1994f47eb",
   "metadata": {},
   "outputs": [
    {
     "name": "stdout",
     "output_type": "stream",
     "text": [
      "Accuracy:  0.94\n",
      "Classification Report:\n",
      "               precision    recall  f1-score   support\n",
      "\n",
      "         0.0       0.93      0.65      0.77      7181\n",
      "         1.0       0.94      0.99      0.97     41523\n",
      "\n",
      "    accuracy                           0.94     48704\n",
      "   macro avg       0.94      0.82      0.87     48704\n",
      "weighted avg       0.94      0.94      0.94     48704\n",
      "\n",
      "CPU times: total: 5.67 s\n",
      "Wall time: 6.06 s\n"
     ]
    }
   ],
   "source": [
    "%%time\n",
    "import pandas as pd \n",
    "import re\n",
    "from sklearn.feature_extraction.text import TfidfVectorizer\n",
    "from sklearn.model_selection import train_test_split\n",
    "from sklearn.linear_model import LogisticRegression\n",
    "from sklearn.metrics import accuracy_score, classification_report\n",
    "\n",
    "#Load and preprocess data\n",
    "df = pd.read_csv(\"Dataset-SA.csv\").rename(columns={\n",
    "    \"Review\": \"text\",\n",
    "    \"Summary\": \"string\",\n",
    "    \"Rate\": \"int\",\n",
    "    \"Sentiment\": \"label\"})\n",
    "\n",
    "#Drop rows where the sentiment (label) is missing\n",
    "df = df.dropna(subset=['label'])\n",
    "               \n",
    "#Map sentiment labels to binary values\n",
    "df ['label'] = df['label'].map ({\"positive\": 1,\"negative\": 0 })\n",
    "df = df.dropna(subset=['label'])\n",
    "df['text'] = df ['text'].str.lower().apply(lambda x: re.sub(r'[^\\w\\s]', '', x))\n",
    "\n",
    "# Define and fit the vectorizer globally\n",
    "vectorizer = TfidfVectorizer (stop_words=\"english\", ngram_range=(1,2))\n",
    "X = vectorizer.fit_transform(df['text'])\n",
    "y = df['label']\n",
    "\n",
    "#Train model using Logistic Regression \n",
    "X_train, X_test, y_train, y_test = train_test_split(X,y, test_size=0.25, random_state=42)\n",
    "model = LogisticRegression(max_iter=1000).fit(X_train, y_train)\n",
    "\n",
    "#Evaluate model\n",
    "y_pred = model.predict(X_test)\n",
    "print(f\"Accuracy: {accuracy_score(y_test,y_pred): .2f}\")\n",
    "print(\"Classification Report:\\n\", classification_report(y_test,y_pred,zero_division=1))\n",
    "\n"
   ]
  },
  {
   "cell_type": "code",
   "execution_count": 26,
   "id": "5c51f2a9-b130-4e05-b880-c4544096ba7c",
   "metadata": {},
   "outputs": [
    {
     "name": "stdout",
     "output_type": "stream",
     "text": [
      "Review: This product is amazing! I loved it.\n",
      "Predicted Sentiment: Positive (Confidence: 83.28%)\n",
      "\n",
      "Review: Really disappointing, it broke on the first day.\n",
      "Predicted Sentiment: Positive (Confidence: 86.14%)\n",
      "\n",
      "Review: Decent quality for the price.\n",
      "Predicted Sentiment: Positive (Confidence: 73.73%)\n",
      "\n",
      "Review: I absolutely adore this!Highly recommended.\n",
      "Predicted Sentiment: Negative (Confidence: 51.40%)\n",
      "\n",
      "Review: Not as expected, quite poor performance.\n",
      "Predicted Sentiment: Negative (Confidence: 61.98%)\n",
      "\n",
      "Review: Very poor quality for the price>\n",
      "Predicted Sentiment: Negative (Confidence: 55.98%)\n",
      "\n",
      "Review: disappointed\n",
      "Predicted Sentiment: Negative (Confidence: 84.75%)\n",
      "\n"
     ]
    }
   ],
   "source": [
    "#Function to predict sentiment and confidence for multiple reviews\n",
    "def predict_bulk_sentiments(reviews):\n",
    "    cleaned_reviews = [re.sub(r'[^\\w\\s]', '', review.lower()) for review in reviews]\n",
    "    transformed_reviews = vectorizer.transform(cleaned_reviews)\n",
    "    # Get prediction probabilities\n",
    "    probabilities = model.predict_proba(transformed_reviews)\n",
    "    # Get predicted class (1 = Positive, 0 = Negative)\n",
    "    predictions = model.predict(transformed_reviews)\n",
    "    # Convert predictions into readable labels\n",
    "    results = [\"Positive\" if pred == 1 else \"Negative\" for pred in predictions]\n",
    "\n",
    "    # Print results with confidence\n",
    "    for review, sentiment, prob in zip(reviews, results, probabilities):\n",
    "        confidence = max(prob) * 100\n",
    "        print(f\"Review: {review}\")\n",
    "        print(f\"Predicted Sentiment: {sentiment} (Confidence: {confidence:.2f}%)\\n\")\n",
    "    #List of new reviews to test\n",
    "new_reviews = [\"This product is amazing! I loved it.\",\n",
    "               \"Really disappointing, it broke on the first day.\",\n",
    "               \"Decent quality for the price.\",\n",
    "               \"I absolutely adore this!Highly recommended.\",\n",
    "               \"Not as expected, quite poor performance.\",\n",
    "               \"Very poor quality for the price>\",\n",
    "               \"disappointed\"\n",
    "]\n",
    "# Run bulk predictions\n",
    "predict_bulk_sentiments(new_reviews)\n",
    "    \n",
    "   \n"
   ]
  },
  {
   "cell_type": "code",
   "execution_count": 4,
   "id": "bee98804-c778-4446-85c0-2f43fb29e5eb",
   "metadata": {},
   "outputs": [
    {
     "name": "stdout",
     "output_type": "stream",
     "text": [
      "Model and vectorizer saved!\n"
     ]
    }
   ],
   "source": [
    "import pickle\n",
    "#Save the trained model\n",
    "with open(\"model.pkl\", \"wb\") as model_file:\n",
    "    pickle.dump(model, model_file)\n",
    "#Save the Vectorizer\n",
    "with open (\"vectorizer.pkl\", \"wb\") as vectorizer_file:\n",
    "    pickle.dump(vectorizer, vectorizer_file)\n",
    "print(\"Model and vectorizer saved!\")"
   ]
  },
  {
   "cell_type": "code",
   "execution_count": null,
   "id": "c02c0134-17ac-4a71-8cf2-1daf5aa74ee9",
   "metadata": {},
   "outputs": [],
   "source": []
  },
  {
   "cell_type": "code",
   "execution_count": null,
   "id": "810813e8-9671-42dc-958f-0e8cfd3c87d4",
   "metadata": {},
   "outputs": [],
   "source": []
  }
 ],
 "metadata": {
  "kernelspec": {
   "display_name": "Python 3 (ipykernel)",
   "language": "python",
   "name": "python3"
  },
  "language_info": {
   "codemirror_mode": {
    "name": "ipython",
    "version": 3
   },
   "file_extension": ".py",
   "mimetype": "text/x-python",
   "name": "python",
   "nbconvert_exporter": "python",
   "pygments_lexer": "ipython3",
   "version": "3.13.1"
  }
 },
 "nbformat": 4,
 "nbformat_minor": 5
}
