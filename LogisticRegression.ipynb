{
 "cells": [
  {
   "cell_type": "code",
   "execution_count": 3,
   "id": "a6f4c583-636b-4c12-9d73-0ea6f98687f8",
   "metadata": {},
   "outputs": [
    {
     "name": "stdout",
     "output_type": "stream",
     "text": [
      "Accuracy: 0.89\n",
      "Classification Report:\n",
      "               precision    recall  f1-score   support\n",
      "\n",
      "           0       0.90      0.87      0.89      6157\n",
      "           1       0.88      0.91      0.89      6343\n",
      "\n",
      "    accuracy                           0.89     12500\n",
      "   macro avg       0.89      0.89      0.89     12500\n",
      "weighted avg       0.89      0.89      0.89     12500\n",
      "\n",
      "CPU times: total: 1min 6s\n",
      "Wall time: 1min 3s\n"
     ]
    }
   ],
   "source": [
    "%%time\n",
    "import pandas as pd\n",
    "import re\n",
    "from sklearn.feature_extraction.text import TfidfVectorizer\n",
    "from sklearn.model_selection import train_test_split\n",
    "from sklearn.linear_model import LogisticRegression\n",
    "from sklearn.metrics import accuracy_score, classification_report\n",
    "\n",
    "# Load and preprocess dataset\n",
    "df = pd.read_csv(\"IMDBDataset_50000.csv\").rename(columns={\"review\": \"text\", \"sentiment\": \"label\"})\n",
    "df['label'] = df['label'].map({\"positive\": 1, \"negative\": 0})\n",
    "df['text'] = df['text'].str.lower().apply(lambda x: re.sub(r'[^\\w\\s]', '', x))\n",
    "\n",
    "# Define and fit the vectorizer globally\n",
    "vectorizer = TfidfVectorizer(stop_words=\"english\", ngram_range=(1,2))\n",
    "X = vectorizer.fit_transform(df['text'])\n",
    "y = df['label']\n",
    "\n",
    "# Train model using Logistic Regression\n",
    "X_train, X_test, y_train, y_test = train_test_split(X, y, test_size=0.25, random_state=42)\n",
    "model = LogisticRegression(max_iter=1000).fit(X_train, y_train)\n",
    "\n",
    "# Evaluate model\n",
    "y_pred = model.predict(X_test)\n",
    "print(f\"Accuracy: {accuracy_score(y_test, y_pred):.2f}\")\n",
    "print(\"Classification Report:\\n\", classification_report(y_test, y_pred, zero_division=1))"
   ]
  },
  {
   "cell_type": "code",
   "execution_count": 14,
   "id": "6b64879e-e99c-42c1-b3ed-820d5e1a8d35",
   "metadata": {},
   "outputs": [
    {
     "name": "stdout",
     "output_type": "stream",
     "text": [
      "Review: The movie was an absolute masterpiece!\n",
      "Predicted Sentiment: Positive (Confidence: 64.68%)\n",
      "\n",
      "Review: I hated this film. It was boring and predictable.\n",
      "Predicted Sentiment: Negative (Confidence: 96.71%)\n",
      "\n",
      "Review: A fantastic experience! I loved every second of it.\n",
      "Predicted Sentiment: Positive (Confidence: 96.15%)\n",
      "\n",
      "Review: Not worth the time. Completely disappointing.\n",
      "Predicted Sentiment: Negative (Confidence: 74.35%)\n",
      "\n",
      "Review: This was one of the best performances I've seen in a while.\n",
      "Predicted Sentiment: Positive (Confidence: 96.50%)\n",
      "\n",
      "Review: Terrible script and bad acting ruined the whole experience.\n",
      "Predicted Sentiment: Negative (Confidence: 98.54%)\n",
      "\n",
      "Review: A visually stunning film with a great story.\n",
      "Predicted Sentiment: Positive (Confidence: 96.57%)\n",
      "\n",
      "Review: The worst movie I have ever seen, total waste of time!\n",
      "Predicted Sentiment: Negative (Confidence: 99.84%)\n",
      "\n",
      "Review: It was okay, not the best, but not the worst either.\n",
      "Predicted Sentiment: Negative (Confidence: 86.80%)\n",
      "\n",
      "Review: An unforgettable journey through emotions. Loved it!\n",
      "Predicted Sentiment: Positive (Confidence: 93.93%)\n",
      "\n",
      "Review: Not the best movie to be honest\n",
      "Predicted Sentiment: Positive (Confidence: 91.05%)\n",
      "\n",
      "Review: Nothing good with this movie\n",
      "Predicted Sentiment: Positive (Confidence: 82.37%)\n",
      "\n",
      "Review: I like this movie, I think it is worth to watch\n",
      "Predicted Sentiment: Positive (Confidence: 81.55%)\n",
      "\n",
      "Review: Totally recommend this\n",
      "Predicted Sentiment: Positive (Confidence: 69.89%)\n",
      "\n"
     ]
    }
   ],
   "source": [
    "# Function to predict sentiment and confidence for multiple reviews\n",
    "def predict_bulk_sentiments(reviews):\n",
    "    cleaned_reviews = [re.sub(r'[^\\w\\s]', '', review.lower()) for review in reviews]  # Inline preprocessing\n",
    "    transformed_reviews = vectorizer.transform(cleaned_reviews)  # Uses the global vectorizer\n",
    "    \n",
    "    # Get prediction probabilities\n",
    "    probabilities = model.predict_proba(transformed_reviews)\n",
    "    \n",
    "    # Get predicted class (1 = Positive, 0 = Negative)\n",
    "    predictions = model.predict(transformed_reviews)\n",
    "    \n",
    "    # Convert predictions to readable labels\n",
    "    results = [\"Positive\" if pred == 1 else \"Negative\" for pred in predictions]\n",
    "    \n",
    "    # Print results with confidence\n",
    "    for review, sentiment, prob in zip(reviews, results, probabilities):\n",
    "        confidence = max(prob) * 100  # Convert to percentage\n",
    "        print(f\"Review: {review}\")\n",
    "        print(f\"Predicted Sentiment: {sentiment} (Confidence: {confidence:.2f}%)\\n\")\n",
    "\n",
    "# List of new reviews to test\n",
    "new_reviews = [\n",
    "    \"The movie was an absolute masterpiece!\",\n",
    "    \"I hated this film. It was boring and predictable.\",\n",
    "    \"A fantastic experience! I loved every second of it.\",\n",
    "    \"Not worth the time. Completely disappointing.\",\n",
    "    \"This was one of the best performances I've seen in a while.\",\n",
    "    \"Terrible script and bad acting ruined the whole experience.\",\n",
    "    \"A visually stunning film with a great story.\",\n",
    "    \"The worst movie I have ever seen, total waste of time!\",\n",
    "    \"It was okay, not the best, but not the worst either.\",\n",
    "    \"An unforgettable journey through emotions. Loved it!\",\n",
    "    \"Not the best movie to be honest\",\n",
    "    \"Nothing good with this movie\",\n",
    "    \"I like this movie, I think it is worth to watch\",\n",
    "    \"Totally recommend this\"\n",
    "]\n",
    "\n",
    "# Run bulk predictions\n",
    "predict_bulk_sentiments(new_reviews)\n"
   ]
  },
  {
   "cell_type": "code",
   "execution_count": 15,
   "id": "26967009-9a2c-44d9-9706-7d24c2887e7c",
   "metadata": {},
   "outputs": [
    {
     "name": "stdout",
     "output_type": "stream",
     "text": [
      "Model and vectorizer saved!\n"
     ]
    }
   ],
   "source": [
    "import pickle\n",
    "\n",
    "# Save the trained model\n",
    "with open(\"model.pkl\", \"wb\") as model_file:\n",
    "    pickle.dump(model, model_file)\n",
    "\n",
    "# Save the vectorizer\n",
    "with open(\"vectorizer.pkl\", \"wb\") as vectorizer_file:\n",
    "    pickle.dump(vectorizer, vectorizer_file)\n",
    "\n",
    "print(\"Model and vectorizer saved!\")\n"
   ]
  }
 ],
 "metadata": {
  "kernelspec": {
   "display_name": "Python 3 (ipykernel)",
   "language": "python",
   "name": "python3"
  },
  "language_info": {
   "codemirror_mode": {
    "name": "ipython",
    "version": 3
   },
   "file_extension": ".py",
   "mimetype": "text/x-python",
   "name": "python",
   "nbconvert_exporter": "python",
   "pygments_lexer": "ipython3",
   "version": "3.13.1"
  }
 },
 "nbformat": 4,
 "nbformat_minor": 5
}
