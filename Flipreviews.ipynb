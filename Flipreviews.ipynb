{
 "cells": [
  {
   "cell_type": "code",
   "execution_count": 56,
   "id": "39c99114-f456-494e-99f1-beab6aaaf3d4",
   "metadata": {},
   "outputs": [
    {
     "name": "stdout",
     "output_type": "stream",
     "text": [
      "Accuracy: 0.94\n",
      "Classification Report:\n",
      "               precision    recall  f1-score   support\n",
      "\n",
      "         0.0       0.93      0.65      0.77      7181\n",
      "         1.0       0.94      0.99      0.97     41523\n",
      "\n",
      "    accuracy                           0.94     48704\n",
      "   macro avg       0.94      0.82      0.87     48704\n",
      "weighted avg       0.94      0.94      0.94     48704\n",
      "\n",
      "CPU times: total: 3.61 s\n",
      "Wall time: 4.44 s\n"
     ]
    }
   ],
   "source": [
    "%%time\n",
    "import pandas as pd\n",
    "import re\n",
    "from sklearn.feature_extraction.text import TfidfVectorizer\n",
    "from sklearn.model_selection import train_test_split\n",
    "from sklearn.linear_model import LogisticRegression\n",
    "from sklearn.metrics import accuracy_score, classification_report\n",
    "\n",
    "#Load and preprocess data\n",
    "df = pd.read_csv(\"Dataset-SA.csv\").rename(columns={\"Review\": \"text\", \"Summarry\": \"string\", \"Rate\": \"int\", \"Sentiment\": \"label\"})\n",
    "# Drop rows where the sentiment (label) is missing\n",
    "df = df.dropna(subset=['label'])\n",
    "# Map sentiment labels to binary values\n",
    "df['label'] = df['label'].map ({\"positive\": 1, \"negative\": 0})\n",
    "#Remove NaN Values\n",
    "df = df.dropna(subset=['label'])\n",
    "df['text']= df['text'].str.lower().apply(lambda x: re.sub(r'[^\\w\\s]', '', x))\n",
    "\n",
    "#Define and fit the Vectorizer\n",
    "vectorizer = TfidfVectorizer(stop_words=\"english\", ngram_range=(1,2))\n",
    "X = vectorizer.fit_transform(df['text'])\n",
    "y = df['label']\n",
    "\n",
    "#Train model using Logistic Regression\n",
    "X_train, X_test, y_train, y_test = train_test_split(X, y, test_size=0.25, random_state=42)\n",
    "model = LogisticRegression(max_iter=1000).fit(X_train, y_train)\n",
    "\n",
    "#Evaluate the model\n",
    "y_pred = model.predict(X_test)\n",
    "print(f\"Accuracy: {accuracy_score(y_test, y_pred):.2f}\")\n",
    "print(\"Classification Report:\\n\", classification_report(y_test, y_pred, zero_division=1))\n",
    "\n"
   ]
  },
  {
   "cell_type": "code",
   "execution_count": 57,
   "id": "2b8e1ade-df9a-4d3e-a0fd-686aca320ce8",
   "metadata": {},
   "outputs": [
    {
     "name": "stdout",
     "output_type": "stream",
     "text": [
      "Review: This product is amazing!I loved it!\n",
      "Predicted Sentiment: Positive (Confidence:85.86%)\n",
      "\n",
      "Review: Really disappointing, it broke on the first day.\n",
      "Predicted Sentiment: Positive (Confidence:86.14%)\n",
      "\n",
      "Review:  I absolutely adore this!\n",
      "Predicted Sentiment: Positive (Confidence:78.03%)\n",
      "\n",
      "Review: Not as expected.Quite a poor performance.\n",
      "Predicted Sentiment: Negative (Confidence:63.55%)\n",
      "\n",
      "Review: Very poor quality for the price.\n",
      "Predicted Sentiment: Negative (Confidence:55.98%)\n",
      "\n",
      "Review: disappointed\n",
      "Predicted Sentiment: Negative (Confidence:84.75%)\n",
      "\n"
     ]
    }
   ],
   "source": [
    "#Function to predict sentiment and confidence for multiple reviews\n",
    "def predict_bulk_sentiments(reviews):\n",
    "    cleaned_reviews = [re.sub(r'[^\\w\\s]', '', review.lower()) for review in reviews]\n",
    "    transformed_reviews = vectorizer.transform(cleaned_reviews)\n",
    "    #Get prediction probabilities\n",
    "    probabilities = model.predict_proba(transformed_reviews)\n",
    "    #Get predicted class (1 = Positive, 0 = Negative)\n",
    "    predictions = model.predict(transformed_reviews)\n",
    "    #Convert predictions to readable labels\n",
    "    results = [\"Positive\" if pred ==1 else \"Negative\" for pred in predictions]\n",
    "    # Print results with confidence\n",
    "    for review, sentiment, prob in zip (reviews, results,probabilities):\n",
    "        confidence = max(prob) * 100\n",
    "        print(f\"Review: {review}\")\n",
    "        print(f\"Predicted Sentiment: {sentiment} (Confidence:{confidence:.2f}%)\\n\")\n",
    "    #List of new reviews to test\n",
    "new_reviews = [\"This product is amazing!I loved it!\",\n",
    "    \"Really disappointing, it broke on the first day.\",\n",
    "    \" I absolutely adore this!\",\n",
    "    \"Not as expected.Quite a poor performance.\",\n",
    "    \"Very poor quality for the price.\",\n",
    "    \"disappointed\"\n",
    "]\n",
    "#Run the bulk predictions\n",
    "predict_bulk_sentiments(new_reviews)"
   ]
  },
  {
   "cell_type": "code",
   "execution_count": 58,
   "id": "74a2b8ef-bf61-4065-841a-812a02fae8b6",
   "metadata": {},
   "outputs": [
    {
     "name": "stdout",
     "output_type": "stream",
     "text": [
      "Model and vectorizer saved!\n"
     ]
    }
   ],
   "source": [
    "import pickle \n",
    "#Save the trained model\n",
    "with open (\"model.pkl\", \"wb\") as model_file:\n",
    "    pickle.dump(model, model_file)\n",
    "#Save the vectorizer\n",
    "with open(\"vectorizer.pkl\", \"wb\") as  vectorizer_file:\n",
    "    pickle.dump(vectorizer,vectorizer_file)\n",
    "print (\"Model and vectorizer saved!\")"
   ]
  },
  {
   "cell_type": "code",
   "execution_count": null,
   "id": "efd0b82c-9df9-494c-b3c2-cc2b2c055eca",
   "metadata": {},
   "outputs": [],
   "source": []
  },
  {
   "cell_type": "code",
   "execution_count": null,
   "id": "27c007d3-8895-4226-bdf8-4cf03b02a093",
   "metadata": {},
   "outputs": [],
   "source": []
  }
 ],
 "metadata": {
  "kernelspec": {
   "display_name": "Python 3 (ipykernel)",
   "language": "python",
   "name": "python3"
  },
  "language_info": {
   "codemirror_mode": {
    "name": "ipython",
    "version": 3
   },
   "file_extension": ".py",
   "mimetype": "text/x-python",
   "name": "python",
   "nbconvert_exporter": "python",
   "pygments_lexer": "ipython3",
   "version": "3.13.1"
  }
 },
 "nbformat": 4,
 "nbformat_minor": 5
}
